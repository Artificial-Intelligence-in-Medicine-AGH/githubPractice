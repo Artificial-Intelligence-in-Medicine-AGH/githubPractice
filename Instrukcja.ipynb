{
 "cells": [
  {
   "cell_type": "markdown",
   "id": "393c391f",
   "metadata": {},
   "source": [
    "# Zadanie 1\n",
    "\n",
    "Utwórz branch, nazwij go swoim imieniem i nazwiskiem"
   ]
  },
  {
   "cell_type": "markdown",
   "id": "c0d0d466",
   "metadata": {},
   "source": [
    "# Zadanie 2\n",
    "\n",
    "Utwórz pusty plik pythona, zakomituj na swoim branch'u oraz wyuklonaj push, plik zapisz jako [Imie][Nazwisko][Skrót kierunku][2].py ."
   ]
  },
  {
   "cell_type": "markdown",
   "id": "070197b1",
   "metadata": {},
   "source": [
    "# Zadanie 3\n",
    "\n",
    "Aktualizuj plik, dodając do niego program \"hello AImed !\" oraz stwórz równoległy plik pythona z programem \"hello ArcelorMittal from AImed !\", plik zapisz jako [Imie][Nazwisko][Skrót kierunku][2].py ."
   ]
  },
  {
   "cell_type": "markdown",
   "id": "d739c21c",
   "metadata": {},
   "source": [
    "# Zadanie 4\n",
    "\n",
    "Zapisz, zakompituj i zrób push na swój branch."
   ]
  },
  {
   "cell_type": "markdown",
   "id": "3dff4971",
   "metadata": {},
   "source": [
    "# Zadanie 5\n",
    "\n",
    "Wykonaj cherry-pick commit programu \"hello ArcelorMittal!\" (program nr2) do gałęzi main .\n"
   ]
  }
 ],
 "metadata": {
  "language_info": {
   "name": "python"
  }
 },
 "nbformat": 4,
 "nbformat_minor": 5
}
